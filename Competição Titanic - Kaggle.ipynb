{
 "cells": [
  {
   "cell_type": "markdown",
   "id": "d2ec37fa",
   "metadata": {},
   "source": [
    "# Competição Titanic "
   ]
  },
  {
   "cell_type": "markdown",
   "id": "012b42d9",
   "metadata": {},
   "source": [
    "## Obtento Dados"
   ]
  },
  {
   "cell_type": "code",
   "execution_count": 1,
   "id": "8bccd65a",
   "metadata": {},
   "outputs": [
    {
     "name": "stdout",
     "output_type": "stream",
     "text": [
      "Listagem de caminhos de pasta para o volume OS\n",
      "O número de série do volume é 6874-3D35\n",
      "C:.\n",
      "+---.ipynb_checkpoints\n",
      "+---data\n"
     ]
    }
   ],
   "source": [
    "# Listando estrutura dos arquivos\n",
    "!tree"
   ]
  },
  {
   "cell_type": "code",
   "execution_count": 2,
   "id": "332f075b",
   "metadata": {},
   "outputs": [],
   "source": [
    "# importando pacotes necessários\n",
    "import pandas as pd\n",
    "import numpy as np\n",
    "import matplotlib.pyplot as plt\n",
    "import seaborn as sns\n",
    "from IPython.display import display, Markdown\n",
    "\n",
    "# permitindo visualizar todas as colunas no Pandas\n",
    "pd.options.display.max_columns = None\n",
    "\n",
    "# renderizar os gráficos diretamento no notebook\n",
    "%matplotlib inline"
   ]
  },
  {
   "cell_type": "code",
   "execution_count": 3,
   "id": "8f4e5aac",
   "metadata": {},
   "outputs": [],
   "source": [
    "# Obtendo os dados\n",
    "train = pd.read_csv('data/train.csv')\n",
    "test = pd.read_csv('data/test.csv')"
   ]
  },
  {
   "cell_type": "code",
   "execution_count": 4,
   "id": "c186988d",
   "metadata": {},
   "outputs": [
    {
     "name": "stdout",
     "output_type": "stream",
     "text": [
      "Variáveis:\t12\n",
      "Entradas:\t891\n"
     ]
    }
   ],
   "source": [
    "# verificando as dimensões do DataFrame de treino\n",
    "print(\"Variáveis:\\t{}\\nEntradas:\\t{}\".format(train.shape[1], train.shape[0]))"
   ]
  },
  {
   "cell_type": "markdown",
   "id": "8782be97",
   "metadata": {},
   "source": [
    "## Exploração dos Dados"
   ]
  },
  {
   "cell_type": "markdown",
   "id": "c661bd7d",
   "metadata": {},
   "source": [
    "### Dicionário de Dados do treino"
   ]
  },
  {
   "cell_type": "code",
   "execution_count": 5,
   "id": "56bbed29",
   "metadata": {
    "scrolled": true
   },
   "outputs": [
    {
     "data": {
      "text/markdown": [
       "**Nome das colunas:** ['PassengerId', 'Survived', 'Pclass', 'Name', 'Sex', 'Age', 'SibSp', 'Parch', 'Ticket', 'Fare', 'Cabin', 'Embarked']"
      ],
      "text/plain": [
       "<IPython.core.display.Markdown object>"
      ]
     },
     "metadata": {},
     "output_type": "display_data"
    },
    {
     "data": {
      "text/markdown": [
       "**Os 3 primeiros dados no Dataframe são:**"
      ],
      "text/plain": [
       "<IPython.core.display.Markdown object>"
      ]
     },
     "metadata": {},
     "output_type": "display_data"
    },
    {
     "data": {
      "text/html": [
       "<div>\n",
       "<style scoped>\n",
       "    .dataframe tbody tr th:only-of-type {\n",
       "        vertical-align: middle;\n",
       "    }\n",
       "\n",
       "    .dataframe tbody tr th {\n",
       "        vertical-align: top;\n",
       "    }\n",
       "\n",
       "    .dataframe thead th {\n",
       "        text-align: right;\n",
       "    }\n",
       "</style>\n",
       "<table border=\"1\" class=\"dataframe\">\n",
       "  <thead>\n",
       "    <tr style=\"text-align: right;\">\n",
       "      <th></th>\n",
       "      <th>PassengerId</th>\n",
       "      <th>Survived</th>\n",
       "      <th>Pclass</th>\n",
       "      <th>Name</th>\n",
       "      <th>Sex</th>\n",
       "      <th>Age</th>\n",
       "      <th>SibSp</th>\n",
       "      <th>Parch</th>\n",
       "      <th>Ticket</th>\n",
       "      <th>Fare</th>\n",
       "      <th>Cabin</th>\n",
       "      <th>Embarked</th>\n",
       "    </tr>\n",
       "  </thead>\n",
       "  <tbody>\n",
       "    <tr>\n",
       "      <th>0</th>\n",
       "      <td>1</td>\n",
       "      <td>0</td>\n",
       "      <td>3</td>\n",
       "      <td>Braund, Mr. Owen Harris</td>\n",
       "      <td>male</td>\n",
       "      <td>22.0</td>\n",
       "      <td>1</td>\n",
       "      <td>0</td>\n",
       "      <td>A/5 21171</td>\n",
       "      <td>7.2500</td>\n",
       "      <td>NaN</td>\n",
       "      <td>S</td>\n",
       "    </tr>\n",
       "    <tr>\n",
       "      <th>1</th>\n",
       "      <td>2</td>\n",
       "      <td>1</td>\n",
       "      <td>1</td>\n",
       "      <td>Cumings, Mrs. John Bradley (Florence Briggs Th...</td>\n",
       "      <td>female</td>\n",
       "      <td>38.0</td>\n",
       "      <td>1</td>\n",
       "      <td>0</td>\n",
       "      <td>PC 17599</td>\n",
       "      <td>71.2833</td>\n",
       "      <td>C85</td>\n",
       "      <td>C</td>\n",
       "    </tr>\n",
       "    <tr>\n",
       "      <th>2</th>\n",
       "      <td>3</td>\n",
       "      <td>1</td>\n",
       "      <td>3</td>\n",
       "      <td>Heikkinen, Miss. Laina</td>\n",
       "      <td>female</td>\n",
       "      <td>26.0</td>\n",
       "      <td>0</td>\n",
       "      <td>0</td>\n",
       "      <td>STON/O2. 3101282</td>\n",
       "      <td>7.9250</td>\n",
       "      <td>NaN</td>\n",
       "      <td>S</td>\n",
       "    </tr>\n",
       "  </tbody>\n",
       "</table>\n",
       "</div>"
      ],
      "text/plain": [
       "   PassengerId  Survived  Pclass  \\\n",
       "0            1         0       3   \n",
       "1            2         1       1   \n",
       "2            3         1       3   \n",
       "\n",
       "                                                Name     Sex   Age  SibSp  \\\n",
       "0                            Braund, Mr. Owen Harris    male  22.0      1   \n",
       "1  Cumings, Mrs. John Bradley (Florence Briggs Th...  female  38.0      1   \n",
       "2                             Heikkinen, Miss. Laina  female  26.0      0   \n",
       "\n",
       "   Parch            Ticket     Fare Cabin Embarked  \n",
       "0      0         A/5 21171   7.2500   NaN        S  \n",
       "1      0          PC 17599  71.2833   C85        C  \n",
       "2      0  STON/O2. 3101282   7.9250   NaN        S  "
      ]
     },
     "metadata": {},
     "output_type": "display_data"
    }
   ],
   "source": [
    "# Visualizando as colunas do DataFrame train\n",
    "data_column = list(train.columns)\n",
    "display(Markdown(f\"**Nome das colunas:** {data_column}\"))\n",
    "\n",
    "# Vizualizando os 3 primeiros dados do DataFrame train\n",
    "display(Markdown(\"**Os 3 primeiros dados no Dataframe são:**\"))\n",
    "display(train.head(3))"
   ]
  },
  {
   "cell_type": "markdown",
   "id": "f52d59db",
   "metadata": {
    "heading_collapsed": true
   },
   "source": [
    "##### Coluna: PassengerId"
   ]
  },
  {
   "cell_type": "code",
   "execution_count": 6,
   "id": "d3469c3a",
   "metadata": {
    "hidden": true
   },
   "outputs": [
    {
     "data": {
      "text/markdown": [
       "**PassengerId:**"
      ],
      "text/plain": [
       "<IPython.core.display.Markdown object>"
      ]
     },
     "metadata": {},
     "output_type": "display_data"
    },
    {
     "data": {
      "text/markdown": [
       "Numero de identificação dos passageiros."
      ],
      "text/plain": [
       "<IPython.core.display.Markdown object>"
      ]
     },
     "metadata": {},
     "output_type": "display_data"
    },
    {
     "data": {
      "text/markdown": [
       "**Tipo da coluna:** int64"
      ],
      "text/plain": [
       "<IPython.core.display.Markdown object>"
      ]
     },
     "metadata": {},
     "output_type": "display_data"
    },
    {
     "data": {
      "text/markdown": [
       "**Quantidade de registros:** 891 registros"
      ],
      "text/plain": [
       "<IPython.core.display.Markdown object>"
      ]
     },
     "metadata": {},
     "output_type": "display_data"
    },
    {
     "data": {
      "text/markdown": [
       "**Tipos únicos dentro da coluna (amostra):** [ 1  2  3  4  5  6  7  8  9 10] ... [882 883 884 885 886 887 888 889 890 891]"
      ],
      "text/plain": [
       "<IPython.core.display.Markdown object>"
      ]
     },
     "metadata": {},
     "output_type": "display_data"
    },
    {
     "data": {
      "text/markdown": [
       "**Os 3 primeiros dados na coluna são:**"
      ],
      "text/plain": [
       "<IPython.core.display.Markdown object>"
      ]
     },
     "metadata": {},
     "output_type": "display_data"
    },
    {
     "data": {
      "text/html": [
       "<div>\n",
       "<style scoped>\n",
       "    .dataframe tbody tr th:only-of-type {\n",
       "        vertical-align: middle;\n",
       "    }\n",
       "\n",
       "    .dataframe tbody tr th {\n",
       "        vertical-align: top;\n",
       "    }\n",
       "\n",
       "    .dataframe thead th {\n",
       "        text-align: right;\n",
       "    }\n",
       "</style>\n",
       "<table border=\"1\" class=\"dataframe\">\n",
       "  <thead>\n",
       "    <tr style=\"text-align: right;\">\n",
       "      <th></th>\n",
       "      <th>PassengerId</th>\n",
       "    </tr>\n",
       "  </thead>\n",
       "  <tbody>\n",
       "    <tr>\n",
       "      <th>0</th>\n",
       "      <td>1</td>\n",
       "    </tr>\n",
       "    <tr>\n",
       "      <th>1</th>\n",
       "      <td>2</td>\n",
       "    </tr>\n",
       "    <tr>\n",
       "      <th>2</th>\n",
       "      <td>3</td>\n",
       "    </tr>\n",
       "  </tbody>\n",
       "</table>\n",
       "</div>"
      ],
      "text/plain": [
       "   PassengerId\n",
       "0            1\n",
       "1            2\n",
       "2            3"
      ]
     },
     "metadata": {},
     "output_type": "display_data"
    }
   ],
   "source": [
    "# Descrição\n",
    "display(Markdown(\"**PassengerId:**\"))\n",
    "display(Markdown(\"Numero de identificação dos passageiros.\"))\n",
    "\n",
    "# Identificando tipo da coluna\n",
    "type_column = train['PassengerId'].dtypes\n",
    "display(Markdown(f\"**Tipo da coluna:** {type_column}\"))\n",
    "\n",
    "# Identificando quantidade de dados na coluna\n",
    "qnt_column = len(train['PassengerId'])\n",
    "display(Markdown(f\"**Quantidade de registros:** {qnt_column} registros\"))\n",
    "\n",
    "# Identificando os tipos de dados dentro da coluna\n",
    "unique_values = train['PassengerId'].unique()\n",
    "first = unique_values[:10]\n",
    "last = unique_values[-10:]\n",
    "display(Markdown(f'**Tipos únicos dentro da coluna (amostra):** {first} ... {last}'))\n",
    "\n",
    "# Visualizando os 3 primeiros dados da coluna\n",
    "display(Markdown(\"**Os 3 primeiros dados na coluna são:**\"))\n",
    "display(train[['PassengerId']].head(3))\n"
   ]
  },
  {
   "cell_type": "markdown",
   "id": "59df101a",
   "metadata": {
    "heading_collapsed": true
   },
   "source": [
    "#####  Coluna: Survived"
   ]
  },
  {
   "cell_type": "code",
   "execution_count": 7,
   "id": "35702006",
   "metadata": {
    "hidden": true,
    "scrolled": true
   },
   "outputs": [
    {
     "data": {
      "text/markdown": [
       "**Survived:**"
      ],
      "text/plain": [
       "<IPython.core.display.Markdown object>"
      ]
     },
     "metadata": {},
     "output_type": "display_data"
    },
    {
     "data": {
      "text/markdown": [
       "Informa se o passageiro sovbreviveu ou não"
      ],
      "text/plain": [
       "<IPython.core.display.Markdown object>"
      ]
     },
     "metadata": {},
     "output_type": "display_data"
    },
    {
     "data": {
      "text/markdown": [
       "**Tipo da coluna:** int64"
      ],
      "text/plain": [
       "<IPython.core.display.Markdown object>"
      ]
     },
     "metadata": {},
     "output_type": "display_data"
    },
    {
     "data": {
      "text/markdown": [
       "**Quantidade de registros:** 891 registros"
      ],
      "text/plain": [
       "<IPython.core.display.Markdown object>"
      ]
     },
     "metadata": {},
     "output_type": "display_data"
    },
    {
     "data": {
      "text/markdown": [
       "**Tipos únicos dentro da coluna:** [0 1]"
      ],
      "text/plain": [
       "<IPython.core.display.Markdown object>"
      ]
     },
     "metadata": {},
     "output_type": "display_data"
    },
    {
     "data": {
      "text/markdown": [
       "- 0 = Não"
      ],
      "text/plain": [
       "<IPython.core.display.Markdown object>"
      ]
     },
     "metadata": {},
     "output_type": "display_data"
    },
    {
     "data": {
      "text/markdown": [
       "- 1 = Sim"
      ],
      "text/plain": [
       "<IPython.core.display.Markdown object>"
      ]
     },
     "metadata": {},
     "output_type": "display_data"
    },
    {
     "data": {
      "text/markdown": [
       "**Os 3 primeiros dados na coluna são:**"
      ],
      "text/plain": [
       "<IPython.core.display.Markdown object>"
      ]
     },
     "metadata": {},
     "output_type": "display_data"
    },
    {
     "data": {
      "text/html": [
       "<div>\n",
       "<style scoped>\n",
       "    .dataframe tbody tr th:only-of-type {\n",
       "        vertical-align: middle;\n",
       "    }\n",
       "\n",
       "    .dataframe tbody tr th {\n",
       "        vertical-align: top;\n",
       "    }\n",
       "\n",
       "    .dataframe thead th {\n",
       "        text-align: right;\n",
       "    }\n",
       "</style>\n",
       "<table border=\"1\" class=\"dataframe\">\n",
       "  <thead>\n",
       "    <tr style=\"text-align: right;\">\n",
       "      <th></th>\n",
       "      <th>Survived</th>\n",
       "    </tr>\n",
       "  </thead>\n",
       "  <tbody>\n",
       "    <tr>\n",
       "      <th>0</th>\n",
       "      <td>0</td>\n",
       "    </tr>\n",
       "    <tr>\n",
       "      <th>1</th>\n",
       "      <td>1</td>\n",
       "    </tr>\n",
       "    <tr>\n",
       "      <th>2</th>\n",
       "      <td>1</td>\n",
       "    </tr>\n",
       "  </tbody>\n",
       "</table>\n",
       "</div>"
      ],
      "text/plain": [
       "   Survived\n",
       "0         0\n",
       "1         1\n",
       "2         1"
      ]
     },
     "metadata": {},
     "output_type": "display_data"
    }
   ],
   "source": [
    "# Descrição\n",
    "display(Markdown(\"**Survived:**\"))\n",
    "display(Markdown(\"Informa se o passageiro sovbreviveu ou não\"))\n",
    "\n",
    "# Identificando tipo da coluna\n",
    "type_column = train['Survived'].dtypes\n",
    "display(Markdown(f\"**Tipo da coluna:** {type_column}\"))\n",
    "\n",
    "# Identificando quantidade de dados na coluna\n",
    "qnt_column = len(train['Survived'])\n",
    "display(Markdown(f\"**Quantidade de registros:** {qnt_column} registros\"))\n",
    "\n",
    "# Identificando os tipos de dados dentro da coluna\n",
    "unique_values = train['Survived'].unique()\n",
    "display(Markdown(f'**Tipos únicos dentro da coluna:** {unique_values}'))\n",
    "display(Markdown(f'- {unique_values[0]} = Não'))\n",
    "display(Markdown(f'- {unique_values[1]} = Sim'))\n",
    "\n",
    "# Visualizando os 3 primeiros dados da coluna\n",
    "display(Markdown(\"**Os 3 primeiros dados na coluna são:**\"))\n",
    "display(train[['Survived']].head(3))\n"
   ]
  },
  {
   "cell_type": "markdown",
   "id": "770618cb",
   "metadata": {
    "heading_collapsed": true
   },
   "source": [
    "##### Coluna: Pclass"
   ]
  },
  {
   "cell_type": "code",
   "execution_count": 11,
   "id": "5daaf541",
   "metadata": {
    "hidden": true
   },
   "outputs": [
    {
     "data": {
      "text/markdown": [
       "**Pclass:**"
      ],
      "text/plain": [
       "<IPython.core.display.Markdown object>"
      ]
     },
     "metadata": {},
     "output_type": "display_data"
    },
    {
     "data": {
      "text/markdown": [
       "Informa a Classe que o passageiro estava"
      ],
      "text/plain": [
       "<IPython.core.display.Markdown object>"
      ]
     },
     "metadata": {},
     "output_type": "display_data"
    },
    {
     "data": {
      "text/markdown": [
       "**Tipo da coluna:** int64"
      ],
      "text/plain": [
       "<IPython.core.display.Markdown object>"
      ]
     },
     "metadata": {},
     "output_type": "display_data"
    },
    {
     "data": {
      "text/markdown": [
       "**Quantidade de registros:** 891 registros"
      ],
      "text/plain": [
       "<IPython.core.display.Markdown object>"
      ]
     },
     "metadata": {},
     "output_type": "display_data"
    },
    {
     "data": {
      "text/markdown": [
       "**Tipos únicos dentro da coluna:** [1, 2, 3]"
      ],
      "text/plain": [
       "<IPython.core.display.Markdown object>"
      ]
     },
     "metadata": {},
     "output_type": "display_data"
    },
    {
     "data": {
      "text/markdown": [
       "- 1 = 1° Classe"
      ],
      "text/plain": [
       "<IPython.core.display.Markdown object>"
      ]
     },
     "metadata": {},
     "output_type": "display_data"
    },
    {
     "data": {
      "text/markdown": [
       "- 2 = 2° Classe"
      ],
      "text/plain": [
       "<IPython.core.display.Markdown object>"
      ]
     },
     "metadata": {},
     "output_type": "display_data"
    },
    {
     "data": {
      "text/markdown": [
       "- 3 = 3° Classe"
      ],
      "text/plain": [
       "<IPython.core.display.Markdown object>"
      ]
     },
     "metadata": {},
     "output_type": "display_data"
    },
    {
     "data": {
      "text/markdown": [
       "**Os 3 primeiros dados na coluna são:**"
      ],
      "text/plain": [
       "<IPython.core.display.Markdown object>"
      ]
     },
     "metadata": {},
     "output_type": "display_data"
    },
    {
     "data": {
      "text/html": [
       "<div>\n",
       "<style scoped>\n",
       "    .dataframe tbody tr th:only-of-type {\n",
       "        vertical-align: middle;\n",
       "    }\n",
       "\n",
       "    .dataframe tbody tr th {\n",
       "        vertical-align: top;\n",
       "    }\n",
       "\n",
       "    .dataframe thead th {\n",
       "        text-align: right;\n",
       "    }\n",
       "</style>\n",
       "<table border=\"1\" class=\"dataframe\">\n",
       "  <thead>\n",
       "    <tr style=\"text-align: right;\">\n",
       "      <th></th>\n",
       "      <th>Pclass</th>\n",
       "    </tr>\n",
       "  </thead>\n",
       "  <tbody>\n",
       "    <tr>\n",
       "      <th>0</th>\n",
       "      <td>3</td>\n",
       "    </tr>\n",
       "    <tr>\n",
       "      <th>1</th>\n",
       "      <td>1</td>\n",
       "    </tr>\n",
       "    <tr>\n",
       "      <th>2</th>\n",
       "      <td>3</td>\n",
       "    </tr>\n",
       "  </tbody>\n",
       "</table>\n",
       "</div>"
      ],
      "text/plain": [
       "   Pclass\n",
       "0       3\n",
       "1       1\n",
       "2       3"
      ]
     },
     "metadata": {},
     "output_type": "display_data"
    }
   ],
   "source": [
    "# Descrição\n",
    "display(Markdown(\"**Pclass:**\"))\n",
    "display(Markdown(\"Informa a Classe que o passageiro estava\"))\n",
    "\n",
    "# Identificando tipo da coluna\n",
    "type_column = train['Pclass'].dtypes\n",
    "display(Markdown(f\"**Tipo da coluna:** {type_column}\"))\n",
    "\n",
    "# Identificando quantidade de dados na coluna\n",
    "qnt_column = len(train['Pclass'])\n",
    "display(Markdown(f\"**Quantidade de registros:** {qnt_column} registros\"))\n",
    "\n",
    "# Identificando os tipos de dados dentro da coluna\n",
    "unique_values = sorted(train['Pclass'].unique())\n",
    "display(Markdown(f'**Tipos únicos dentro da coluna:** {unique_values}'))\n",
    "display(Markdown(f'- {unique_values[0]} = 1° Classe'))\n",
    "display(Markdown(f'- {unique_values[1]} = 2° Classe'))\n",
    "display(Markdown(f'- {unique_values[2]} = 3° Classe'))\n",
    "\n",
    "# Visualizando os 3 primeiros dados da coluna\n",
    "display(Markdown(\"**Os 3 primeiros dados na coluna são:**\"))\n",
    "display(train[['Pclass']].head(3))"
   ]
  },
  {
   "cell_type": "markdown",
   "id": "633dc555",
   "metadata": {
    "heading_collapsed": true
   },
   "source": [
    "##### Coluna: Name"
   ]
  },
  {
   "cell_type": "code",
   "execution_count": 14,
   "id": "6f2083cd",
   "metadata": {
    "hidden": true
   },
   "outputs": [
    {
     "data": {
      "text/markdown": [
       "**Name:**"
      ],
      "text/plain": [
       "<IPython.core.display.Markdown object>"
      ]
     },
     "metadata": {},
     "output_type": "display_data"
    },
    {
     "data": {
      "text/markdown": [
       "Informa o nome do passageiro"
      ],
      "text/plain": [
       "<IPython.core.display.Markdown object>"
      ]
     },
     "metadata": {},
     "output_type": "display_data"
    },
    {
     "data": {
      "text/markdown": [
       "**Tipo da coluna:** object"
      ],
      "text/plain": [
       "<IPython.core.display.Markdown object>"
      ]
     },
     "metadata": {},
     "output_type": "display_data"
    },
    {
     "data": {
      "text/markdown": [
       "**Quantidade de registros:** 891 registros"
      ],
      "text/plain": [
       "<IPython.core.display.Markdown object>"
      ]
     },
     "metadata": {},
     "output_type": "display_data"
    },
    {
     "data": {
      "text/markdown": [
       "**Tipos únicos dentro da coluna (amostra):** ['Braund, Mr. Owen Harris'\n",
       " 'Cumings, Mrs. John Bradley (Florence Briggs Thayer)'\n",
       " 'Heikkinen, Miss. Laina'] ... ['Johnston, Miss. Catherine Helen \"Carrie\"' 'Behr, Mr. Karl Howell'\n",
       " 'Dooley, Mr. Patrick']"
      ],
      "text/plain": [
       "<IPython.core.display.Markdown object>"
      ]
     },
     "metadata": {},
     "output_type": "display_data"
    },
    {
     "data": {
      "text/markdown": [
       "**Os 3 primeiros dados na coluna são:**"
      ],
      "text/plain": [
       "<IPython.core.display.Markdown object>"
      ]
     },
     "metadata": {},
     "output_type": "display_data"
    },
    {
     "data": {
      "text/html": [
       "<div>\n",
       "<style scoped>\n",
       "    .dataframe tbody tr th:only-of-type {\n",
       "        vertical-align: middle;\n",
       "    }\n",
       "\n",
       "    .dataframe tbody tr th {\n",
       "        vertical-align: top;\n",
       "    }\n",
       "\n",
       "    .dataframe thead th {\n",
       "        text-align: right;\n",
       "    }\n",
       "</style>\n",
       "<table border=\"1\" class=\"dataframe\">\n",
       "  <thead>\n",
       "    <tr style=\"text-align: right;\">\n",
       "      <th></th>\n",
       "      <th>Name</th>\n",
       "    </tr>\n",
       "  </thead>\n",
       "  <tbody>\n",
       "    <tr>\n",
       "      <th>0</th>\n",
       "      <td>Braund, Mr. Owen Harris</td>\n",
       "    </tr>\n",
       "    <tr>\n",
       "      <th>1</th>\n",
       "      <td>Cumings, Mrs. John Bradley (Florence Briggs Th...</td>\n",
       "    </tr>\n",
       "    <tr>\n",
       "      <th>2</th>\n",
       "      <td>Heikkinen, Miss. Laina</td>\n",
       "    </tr>\n",
       "  </tbody>\n",
       "</table>\n",
       "</div>"
      ],
      "text/plain": [
       "                                                Name\n",
       "0                            Braund, Mr. Owen Harris\n",
       "1  Cumings, Mrs. John Bradley (Florence Briggs Th...\n",
       "2                             Heikkinen, Miss. Laina"
      ]
     },
     "metadata": {},
     "output_type": "display_data"
    }
   ],
   "source": [
    "# Descrição\n",
    "display(Markdown(\"**Name:**\"))\n",
    "display(Markdown(\"Informa o nome do passageiro\"))\n",
    "\n",
    "# Identificando tipo da coluna\n",
    "type_column = train['Name'].dtypes\n",
    "display(Markdown(f\"**Tipo da coluna:** {type_column}\"))\n",
    "\n",
    "# Identificando quantidade de dados na coluna\n",
    "qnt_column = len(train['Name'])\n",
    "display(Markdown(f\"**Quantidade de registros:** {qnt_column} registros\"))\n",
    "\n",
    "# Identificando os tipos de dados dentro da coluna\n",
    "unique_values = train['Name'].unique()\n",
    "first = unique_values[:3]\n",
    "last = unique_values[-3:]\n",
    "display(Markdown(f'**Tipos únicos dentro da coluna (amostra):** {first} ... {last}'))\n",
    "\n",
    "# Visualizando os 3 primeiros dados da coluna\n",
    "display(Markdown(\"**Os 3 primeiros dados na coluna são:**\"))\n",
    "display(train[['Name']].head(3))"
   ]
  },
  {
   "cell_type": "markdown",
   "id": "af3c5c61",
   "metadata": {
    "heading_collapsed": true
   },
   "source": [
    "##### Coluna: Sex"
   ]
  },
  {
   "cell_type": "code",
   "execution_count": 16,
   "id": "cc78f306",
   "metadata": {
    "hidden": true
   },
   "outputs": [
    {
     "data": {
      "text/markdown": [
       "**Sex:**"
      ],
      "text/plain": [
       "<IPython.core.display.Markdown object>"
      ]
     },
     "metadata": {},
     "output_type": "display_data"
    },
    {
     "data": {
      "text/markdown": [
       "Informa o gênero do passageiro"
      ],
      "text/plain": [
       "<IPython.core.display.Markdown object>"
      ]
     },
     "metadata": {},
     "output_type": "display_data"
    },
    {
     "data": {
      "text/markdown": [
       "**Tipo da coluna:** object"
      ],
      "text/plain": [
       "<IPython.core.display.Markdown object>"
      ]
     },
     "metadata": {},
     "output_type": "display_data"
    },
    {
     "data": {
      "text/markdown": [
       "**Quantidade de registros:** 891 registros"
      ],
      "text/plain": [
       "<IPython.core.display.Markdown object>"
      ]
     },
     "metadata": {},
     "output_type": "display_data"
    },
    {
     "data": {
      "text/markdown": [
       "**Tipos únicos dentro da coluna:** ['female', 'male']"
      ],
      "text/plain": [
       "<IPython.core.display.Markdown object>"
      ]
     },
     "metadata": {},
     "output_type": "display_data"
    },
    {
     "data": {
      "text/markdown": [
       "- female = Feminino"
      ],
      "text/plain": [
       "<IPython.core.display.Markdown object>"
      ]
     },
     "metadata": {},
     "output_type": "display_data"
    },
    {
     "data": {
      "text/markdown": [
       "- male = Masculino"
      ],
      "text/plain": [
       "<IPython.core.display.Markdown object>"
      ]
     },
     "metadata": {},
     "output_type": "display_data"
    },
    {
     "data": {
      "text/markdown": [
       "**Os 3 primeiros dados na coluna são:**"
      ],
      "text/plain": [
       "<IPython.core.display.Markdown object>"
      ]
     },
     "metadata": {},
     "output_type": "display_data"
    },
    {
     "data": {
      "text/html": [
       "<div>\n",
       "<style scoped>\n",
       "    .dataframe tbody tr th:only-of-type {\n",
       "        vertical-align: middle;\n",
       "    }\n",
       "\n",
       "    .dataframe tbody tr th {\n",
       "        vertical-align: top;\n",
       "    }\n",
       "\n",
       "    .dataframe thead th {\n",
       "        text-align: right;\n",
       "    }\n",
       "</style>\n",
       "<table border=\"1\" class=\"dataframe\">\n",
       "  <thead>\n",
       "    <tr style=\"text-align: right;\">\n",
       "      <th></th>\n",
       "      <th>Sex</th>\n",
       "    </tr>\n",
       "  </thead>\n",
       "  <tbody>\n",
       "    <tr>\n",
       "      <th>0</th>\n",
       "      <td>male</td>\n",
       "    </tr>\n",
       "    <tr>\n",
       "      <th>1</th>\n",
       "      <td>female</td>\n",
       "    </tr>\n",
       "    <tr>\n",
       "      <th>2</th>\n",
       "      <td>female</td>\n",
       "    </tr>\n",
       "  </tbody>\n",
       "</table>\n",
       "</div>"
      ],
      "text/plain": [
       "      Sex\n",
       "0    male\n",
       "1  female\n",
       "2  female"
      ]
     },
     "metadata": {},
     "output_type": "display_data"
    }
   ],
   "source": [
    "# Descrição\n",
    "display(Markdown(\"**Sex:**\"))\n",
    "display(Markdown(\"Informa o gênero do passageiro\"))\n",
    "\n",
    "# Identificando tipo da coluna\n",
    "type_column = train['Sex'].dtypes\n",
    "display(Markdown(f\"**Tipo da coluna:** {type_column}\"))\n",
    "\n",
    "# Identificando quantidade de dados na coluna\n",
    "qnt_column = len(train['Sex'])\n",
    "display(Markdown(f\"**Quantidade de registros:** {qnt_column} registros\"))\n",
    "\n",
    "# Identificando os tipos de dados dentro da coluna\n",
    "unique_values = sorted(train['Sex'].unique())\n",
    "display(Markdown(f'**Tipos únicos dentro da coluna:** {unique_values}'))\n",
    "display(Markdown(f'- {unique_values[0]} = Feminino'))\n",
    "display(Markdown(f'- {unique_values[1]} = Masculino'))\n",
    "\n",
    "# Visualizando os 3 primeiros dados da coluna\n",
    "display(Markdown(\"**Os 3 primeiros dados na coluna são:**\"))\n",
    "display(train[['Sex']].head(3))"
   ]
  },
  {
   "cell_type": "markdown",
   "id": "e6ec1a8d",
   "metadata": {
    "heading_collapsed": true
   },
   "source": [
    "##### Coluna: Age"
   ]
  },
  {
   "cell_type": "code",
   "execution_count": 18,
   "id": "edb055d4",
   "metadata": {
    "hidden": true,
    "scrolled": true
   },
   "outputs": [
    {
     "data": {
      "text/markdown": [
       "**Age:**"
      ],
      "text/plain": [
       "<IPython.core.display.Markdown object>"
      ]
     },
     "metadata": {},
     "output_type": "display_data"
    },
    {
     "data": {
      "text/markdown": [
       "Informa a idade do passageiro"
      ],
      "text/plain": [
       "<IPython.core.display.Markdown object>"
      ]
     },
     "metadata": {},
     "output_type": "display_data"
    },
    {
     "data": {
      "text/markdown": [
       "**Tipo da coluna:** float64"
      ],
      "text/plain": [
       "<IPython.core.display.Markdown object>"
      ]
     },
     "metadata": {},
     "output_type": "display_data"
    },
    {
     "data": {
      "text/markdown": [
       "**Quantidade de registros:** 891 registros"
      ],
      "text/plain": [
       "<IPython.core.display.Markdown object>"
      ]
     },
     "metadata": {},
     "output_type": "display_data"
    },
    {
     "data": {
      "text/markdown": [
       "**Tipos únicos dentro da coluna (amostra):** [22. 38. 26. 35. nan 54.  2. 27. 14.  4.] ... [57.   80.   70.   24.5   6.    0.67 30.5   0.42 34.5  74.  ]"
      ],
      "text/plain": [
       "<IPython.core.display.Markdown object>"
      ]
     },
     "metadata": {},
     "output_type": "display_data"
    },
    {
     "data": {
      "text/markdown": [
       "**Os 3 primeiros dados na coluna são:**"
      ],
      "text/plain": [
       "<IPython.core.display.Markdown object>"
      ]
     },
     "metadata": {},
     "output_type": "display_data"
    },
    {
     "data": {
      "text/html": [
       "<div>\n",
       "<style scoped>\n",
       "    .dataframe tbody tr th:only-of-type {\n",
       "        vertical-align: middle;\n",
       "    }\n",
       "\n",
       "    .dataframe tbody tr th {\n",
       "        vertical-align: top;\n",
       "    }\n",
       "\n",
       "    .dataframe thead th {\n",
       "        text-align: right;\n",
       "    }\n",
       "</style>\n",
       "<table border=\"1\" class=\"dataframe\">\n",
       "  <thead>\n",
       "    <tr style=\"text-align: right;\">\n",
       "      <th></th>\n",
       "      <th>Age</th>\n",
       "    </tr>\n",
       "  </thead>\n",
       "  <tbody>\n",
       "    <tr>\n",
       "      <th>0</th>\n",
       "      <td>22.0</td>\n",
       "    </tr>\n",
       "    <tr>\n",
       "      <th>1</th>\n",
       "      <td>38.0</td>\n",
       "    </tr>\n",
       "    <tr>\n",
       "      <th>2</th>\n",
       "      <td>26.0</td>\n",
       "    </tr>\n",
       "  </tbody>\n",
       "</table>\n",
       "</div>"
      ],
      "text/plain": [
       "    Age\n",
       "0  22.0\n",
       "1  38.0\n",
       "2  26.0"
      ]
     },
     "metadata": {},
     "output_type": "display_data"
    }
   ],
   "source": [
    "# Descrição\n",
    "display(Markdown(\"**Age:**\"))\n",
    "display(Markdown(\"Informa a idade do passageiro\"))\n",
    "\n",
    "# Identificando tipo da coluna\n",
    "type_column = train['Age'].dtypes\n",
    "display(Markdown(f\"**Tipo da coluna:** {type_column}\"))\n",
    "\n",
    "# Identificando quantidade de dados na coluna\n",
    "qnt_column = len(train['Age'])\n",
    "display(Markdown(f\"**Quantidade de registros:** {qnt_column} registros\"))\n",
    "\n",
    "# Identificando os tipos de dados dentro da coluna\n",
    "unique_values = train['Age'].unique()\n",
    "first = unique_values[:10]\n",
    "last = unique_values[-10:]\n",
    "display(Markdown(f'**Tipos únicos dentro da coluna (amostra):** {first} ... {last}'))\n",
    "\n",
    "# Visualizando os 3 primeiros dados da coluna\n",
    "display(Markdown(\"**Os 3 primeiros dados na coluna são:**\"))\n",
    "display(train[['Age']].head(3))"
   ]
  },
  {
   "cell_type": "markdown",
   "id": "6e733650",
   "metadata": {
    "heading_collapsed": true
   },
   "source": [
    "##### Coluna: SibSp"
   ]
  },
  {
   "cell_type": "code",
   "execution_count": 22,
   "id": "2b698cad",
   "metadata": {
    "hidden": true
   },
   "outputs": [
    {
     "data": {
      "text/markdown": [
       "**SibSp:**"
      ],
      "text/plain": [
       "<IPython.core.display.Markdown object>"
      ]
     },
     "metadata": {},
     "output_type": "display_data"
    },
    {
     "data": {
      "text/markdown": [
       "Quantiedade de cônjuges e irmãos a bordo"
      ],
      "text/plain": [
       "<IPython.core.display.Markdown object>"
      ]
     },
     "metadata": {},
     "output_type": "display_data"
    },
    {
     "data": {
      "text/markdown": [
       "**Tipo da coluna:** int64"
      ],
      "text/plain": [
       "<IPython.core.display.Markdown object>"
      ]
     },
     "metadata": {},
     "output_type": "display_data"
    },
    {
     "data": {
      "text/markdown": [
       "**Quantidade de registros:** 891 registros"
      ],
      "text/plain": [
       "<IPython.core.display.Markdown object>"
      ]
     },
     "metadata": {},
     "output_type": "display_data"
    },
    {
     "data": {
      "text/markdown": [
       "**Tipos únicos dentro da coluna:** [0, 1, 2, 3, 4, 5, 8]"
      ],
      "text/plain": [
       "<IPython.core.display.Markdown object>"
      ]
     },
     "metadata": {},
     "output_type": "display_data"
    },
    {
     "data": {
      "text/markdown": [
       "**Os 3 primeiros dados na coluna são:**"
      ],
      "text/plain": [
       "<IPython.core.display.Markdown object>"
      ]
     },
     "metadata": {},
     "output_type": "display_data"
    },
    {
     "data": {
      "text/html": [
       "<div>\n",
       "<style scoped>\n",
       "    .dataframe tbody tr th:only-of-type {\n",
       "        vertical-align: middle;\n",
       "    }\n",
       "\n",
       "    .dataframe tbody tr th {\n",
       "        vertical-align: top;\n",
       "    }\n",
       "\n",
       "    .dataframe thead th {\n",
       "        text-align: right;\n",
       "    }\n",
       "</style>\n",
       "<table border=\"1\" class=\"dataframe\">\n",
       "  <thead>\n",
       "    <tr style=\"text-align: right;\">\n",
       "      <th></th>\n",
       "      <th>SibSp</th>\n",
       "    </tr>\n",
       "  </thead>\n",
       "  <tbody>\n",
       "    <tr>\n",
       "      <th>0</th>\n",
       "      <td>1</td>\n",
       "    </tr>\n",
       "    <tr>\n",
       "      <th>1</th>\n",
       "      <td>1</td>\n",
       "    </tr>\n",
       "    <tr>\n",
       "      <th>2</th>\n",
       "      <td>0</td>\n",
       "    </tr>\n",
       "  </tbody>\n",
       "</table>\n",
       "</div>"
      ],
      "text/plain": [
       "   SibSp\n",
       "0      1\n",
       "1      1\n",
       "2      0"
      ]
     },
     "metadata": {},
     "output_type": "display_data"
    }
   ],
   "source": [
    "# Descrição\n",
    "display(Markdown(\"**SibSp:**\"))\n",
    "display(Markdown(\"Quantiedade de cônjuges e irmãos a bordo\"))\n",
    "\n",
    "# Identificando tipo da coluna\n",
    "type_column = train['SibSp'].dtypes\n",
    "display(Markdown(f\"**Tipo da coluna:** {type_column}\"))\n",
    "\n",
    "# Identificando quantidade de dados na coluna\n",
    "qnt_column = len(train['SibSp'])\n",
    "display(Markdown(f\"**Quantidade de registros:** {qnt_column} registros\"))\n",
    "\n",
    "# Identificando os tipos de dados dentro da coluna\n",
    "unique_values = sorted(train['SibSp'].unique())\n",
    "display(Markdown(f'**Tipos únicos dentro da coluna:** {unique_values}'))\n",
    "\n",
    "# Visualizando os 3 primeiros dados da coluna\n",
    "display(Markdown(\"**Os 3 primeiros dados na coluna são:**\"))\n",
    "display(train[['SibSp']].head(3))"
   ]
  },
  {
   "cell_type": "markdown",
   "id": "c62cfb99",
   "metadata": {
    "heading_collapsed": true
   },
   "source": [
    "##### Coluna: Parch"
   ]
  },
  {
   "cell_type": "code",
   "execution_count": 23,
   "id": "44fdf990",
   "metadata": {
    "hidden": true
   },
   "outputs": [
    {
     "data": {
      "text/markdown": [
       "**Parch:**"
      ],
      "text/plain": [
       "<IPython.core.display.Markdown object>"
      ]
     },
     "metadata": {},
     "output_type": "display_data"
    },
    {
     "data": {
      "text/markdown": [
       "Quantiedade de pais e filhos a bordo"
      ],
      "text/plain": [
       "<IPython.core.display.Markdown object>"
      ]
     },
     "metadata": {},
     "output_type": "display_data"
    },
    {
     "data": {
      "text/markdown": [
       "**Tipo da coluna:** int64"
      ],
      "text/plain": [
       "<IPython.core.display.Markdown object>"
      ]
     },
     "metadata": {},
     "output_type": "display_data"
    },
    {
     "data": {
      "text/markdown": [
       "**Quantidade de registros:** 891 registros"
      ],
      "text/plain": [
       "<IPython.core.display.Markdown object>"
      ]
     },
     "metadata": {},
     "output_type": "display_data"
    },
    {
     "data": {
      "text/markdown": [
       "**Tipos únicos dentro da coluna:** [0, 1, 2, 3, 4, 5, 6]"
      ],
      "text/plain": [
       "<IPython.core.display.Markdown object>"
      ]
     },
     "metadata": {},
     "output_type": "display_data"
    },
    {
     "data": {
      "text/markdown": [
       "**Os 3 primeiros dados na coluna são:**"
      ],
      "text/plain": [
       "<IPython.core.display.Markdown object>"
      ]
     },
     "metadata": {},
     "output_type": "display_data"
    },
    {
     "data": {
      "text/html": [
       "<div>\n",
       "<style scoped>\n",
       "    .dataframe tbody tr th:only-of-type {\n",
       "        vertical-align: middle;\n",
       "    }\n",
       "\n",
       "    .dataframe tbody tr th {\n",
       "        vertical-align: top;\n",
       "    }\n",
       "\n",
       "    .dataframe thead th {\n",
       "        text-align: right;\n",
       "    }\n",
       "</style>\n",
       "<table border=\"1\" class=\"dataframe\">\n",
       "  <thead>\n",
       "    <tr style=\"text-align: right;\">\n",
       "      <th></th>\n",
       "      <th>Parch</th>\n",
       "    </tr>\n",
       "  </thead>\n",
       "  <tbody>\n",
       "    <tr>\n",
       "      <th>0</th>\n",
       "      <td>0</td>\n",
       "    </tr>\n",
       "    <tr>\n",
       "      <th>1</th>\n",
       "      <td>0</td>\n",
       "    </tr>\n",
       "    <tr>\n",
       "      <th>2</th>\n",
       "      <td>0</td>\n",
       "    </tr>\n",
       "  </tbody>\n",
       "</table>\n",
       "</div>"
      ],
      "text/plain": [
       "   Parch\n",
       "0      0\n",
       "1      0\n",
       "2      0"
      ]
     },
     "metadata": {},
     "output_type": "display_data"
    }
   ],
   "source": [
    "# Descrição\n",
    "display(Markdown(\"**Parch:**\"))\n",
    "display(Markdown(\"Quantiedade de pais e filhos a bordo\"))\n",
    "\n",
    "# Identificando tipo da coluna\n",
    "type_column = train['Parch'].dtypes\n",
    "display(Markdown(f\"**Tipo da coluna:** {type_column}\"))\n",
    "\n",
    "# Identificando quantidade de dados na coluna\n",
    "qnt_column = len(train['Parch'])\n",
    "display(Markdown(f\"**Quantidade de registros:** {qnt_column} registros\"))\n",
    "\n",
    "# Identificando os tipos de dados dentro da coluna\n",
    "unique_values = sorted(train['Parch'].unique())\n",
    "display(Markdown(f'**Tipos únicos dentro da coluna:** {unique_values}'))\n",
    "\n",
    "# Visualizando os 3 primeiros dados da coluna\n",
    "display(Markdown(\"**Os 3 primeiros dados na coluna são:**\"))\n",
    "display(train[['Parch']].head(3))"
   ]
  },
  {
   "cell_type": "markdown",
   "id": "7c8da906",
   "metadata": {},
   "source": [
    "##### Coluna: Ticket"
   ]
  },
  {
   "cell_type": "code",
   "execution_count": 24,
   "id": "6db9adbb",
   "metadata": {},
   "outputs": [
    {
     "data": {
      "text/markdown": [
       "**Ticket:**"
      ],
      "text/plain": [
       "<IPython.core.display.Markdown object>"
      ]
     },
     "metadata": {},
     "output_type": "display_data"
    },
    {
     "data": {
      "text/markdown": [
       "Numero da passagem"
      ],
      "text/plain": [
       "<IPython.core.display.Markdown object>"
      ]
     },
     "metadata": {},
     "output_type": "display_data"
    },
    {
     "data": {
      "text/markdown": [
       "**Tipo da coluna:** object"
      ],
      "text/plain": [
       "<IPython.core.display.Markdown object>"
      ]
     },
     "metadata": {},
     "output_type": "display_data"
    },
    {
     "data": {
      "text/markdown": [
       "**Quantidade de registros:** 891 registros"
      ],
      "text/plain": [
       "<IPython.core.display.Markdown object>"
      ]
     },
     "metadata": {},
     "output_type": "display_data"
    },
    {
     "data": {
      "text/markdown": [
       "**Tipos únicos dentro da coluna (amostra):** ['A/5 21171' 'PC 17599' 'STON/O2. 3101282' '113803' '373450' '330877'\n",
       " '17463' '349909' '347742' '237736'] ... ['349212' '349217' '349257' '7552' 'C.A./SOTON 34068' 'SOTON/OQ 392076'\n",
       " '211536' '112053' '111369' '370376']"
      ],
      "text/plain": [
       "<IPython.core.display.Markdown object>"
      ]
     },
     "metadata": {},
     "output_type": "display_data"
    },
    {
     "data": {
      "text/markdown": [
       "**Os 3 primeiros dados na coluna são:**"
      ],
      "text/plain": [
       "<IPython.core.display.Markdown object>"
      ]
     },
     "metadata": {},
     "output_type": "display_data"
    },
    {
     "data": {
      "text/html": [
       "<div>\n",
       "<style scoped>\n",
       "    .dataframe tbody tr th:only-of-type {\n",
       "        vertical-align: middle;\n",
       "    }\n",
       "\n",
       "    .dataframe tbody tr th {\n",
       "        vertical-align: top;\n",
       "    }\n",
       "\n",
       "    .dataframe thead th {\n",
       "        text-align: right;\n",
       "    }\n",
       "</style>\n",
       "<table border=\"1\" class=\"dataframe\">\n",
       "  <thead>\n",
       "    <tr style=\"text-align: right;\">\n",
       "      <th></th>\n",
       "      <th>Ticket</th>\n",
       "    </tr>\n",
       "  </thead>\n",
       "  <tbody>\n",
       "    <tr>\n",
       "      <th>0</th>\n",
       "      <td>A/5 21171</td>\n",
       "    </tr>\n",
       "    <tr>\n",
       "      <th>1</th>\n",
       "      <td>PC 17599</td>\n",
       "    </tr>\n",
       "    <tr>\n",
       "      <th>2</th>\n",
       "      <td>STON/O2. 3101282</td>\n",
       "    </tr>\n",
       "  </tbody>\n",
       "</table>\n",
       "</div>"
      ],
      "text/plain": [
       "             Ticket\n",
       "0         A/5 21171\n",
       "1          PC 17599\n",
       "2  STON/O2. 3101282"
      ]
     },
     "metadata": {},
     "output_type": "display_data"
    }
   ],
   "source": [
    "# Descrição\n",
    "display(Markdown(\"**Ticket:**\"))\n",
    "display(Markdown(\"Numero da passagem\"))\n",
    "\n",
    "# Identificando tipo da coluna\n",
    "type_column = train['Ticket'].dtypes\n",
    "display(Markdown(f\"**Tipo da coluna:** {type_column}\"))\n",
    "\n",
    "# Identificando quantidade de dados na coluna\n",
    "qnt_column = len(train['Ticket'])\n",
    "display(Markdown(f\"**Quantidade de registros:** {qnt_column} registros\"))\n",
    "\n",
    "# Identificando os tipos de dados dentro da coluna\n",
    "unique_values = train['Ticket'].unique()\n",
    "first = unique_values[:10]\n",
    "last = unique_values[-10:]\n",
    "display(Markdown(f'**Tipos únicos dentro da coluna (amostra):** {first} ... {last}'))\n",
    "\n",
    "# Visualizando os 3 primeiros dados da coluna\n",
    "display(Markdown(\"**Os 3 primeiros dados na coluna são:**\"))\n",
    "display(train[['Ticket']].head(3))"
   ]
  },
  {
   "cell_type": "markdown",
   "id": "c641908e",
   "metadata": {},
   "source": [
    "##### Coluna: "
   ]
  }
 ],
 "metadata": {
  "kernelspec": {
   "display_name": "Python 3 (ipykernel)",
   "language": "python",
   "name": "python3"
  },
  "language_info": {
   "codemirror_mode": {
    "name": "ipython",
    "version": 3
   },
   "file_extension": ".py",
   "mimetype": "text/x-python",
   "name": "python",
   "nbconvert_exporter": "python",
   "pygments_lexer": "ipython3",
   "version": "3.10.11"
  },
  "varInspector": {
   "cols": {
    "lenName": 16,
    "lenType": 16,
    "lenVar": 40
   },
   "kernels_config": {
    "python": {
     "delete_cmd_postfix": "",
     "delete_cmd_prefix": "del ",
     "library": "var_list.py",
     "varRefreshCmd": "print(var_dic_list())"
    },
    "r": {
     "delete_cmd_postfix": ") ",
     "delete_cmd_prefix": "rm(",
     "library": "var_list.r",
     "varRefreshCmd": "cat(var_dic_list()) "
    }
   },
   "types_to_exclude": [
    "module",
    "function",
    "builtin_function_or_method",
    "instance",
    "_Feature"
   ],
   "window_display": false
  }
 },
 "nbformat": 4,
 "nbformat_minor": 5
}
